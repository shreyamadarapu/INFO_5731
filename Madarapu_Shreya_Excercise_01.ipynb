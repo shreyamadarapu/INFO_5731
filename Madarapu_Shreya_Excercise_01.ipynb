{
  "cells": [
    {
      "cell_type": "markdown",
      "metadata": {
        "id": "view-in-github"
      },
      "source": [
        "<a href=\"https://colab.research.google.com/github/unt-iialab/INFO5731_Spring2020/blob/master/In_class_exercise/In_class_exercise_01.ipynb\" target=\"_parent\"><img src=\"https://colab.research.google.com/assets/colab-badge.svg\" alt=\"Open In Colab\"/></a>"
      ]
    },
    {
      "cell_type": "markdown",
      "metadata": {
        "id": "DymRJbxDBCnf"
      },
      "source": [
        "# **This first In-class-exercise cover a variety of fundamental concepts in Python and are designed to help individuals improve their coding skills and problem-solving abilities.**\n",
        "\n",
        "The submission is due on 01/31/2024 11:59 PM. This submission is worth 40 points in total.\n"
      ]
    },
    {
      "cell_type": "markdown",
      "source": [
        "(1) Write a Python program that  prompts the user to input the length and width of a rectangle, and then calculates and displays the area of the rectangle."
      ],
      "metadata": {
        "id": "FBKvD6O_TY6e"
      }
    },
    {
      "cell_type": "code",
      "source": [
        "#Taking inputs from user\n",
        "\n",
        "l= int(input(\"Enter the length: \"))\n",
        "b= int(input(\"Enter the breadth: \"))\n",
        "\n",
        "area=l*b #formula for area of rectangle\n",
        "print(\"area of the rectangle is\", area)"
      ],
      "metadata": {
        "id": "cikVKDXdTbzE",
        "colab": {
          "base_uri": "https://localhost:8080/"
        },
        "outputId": "f3125304-f4c6-45e1-be05-4118bf0a2d4e"
      },
      "execution_count": 22,
      "outputs": [
        {
          "output_type": "stream",
          "name": "stdout",
          "text": [
            "Enter the length: 15\n",
            "Enter the breadth: 12\n",
            "area of the rectangle is 180\n"
          ]
        }
      ]
    },
    {
      "cell_type": "markdown",
      "source": [
        "(2) Create a Python program that interactively takes two numerical inputs from the user and swaps their values without utilizing an extra variable."
      ],
      "metadata": {
        "id": "E9RqrlwdTfvl"
      }
    },
    {
      "cell_type": "code",
      "source": [
        " #Taking input from user\n",
        "num1 = float(input(\"Enter first number: \"))\n",
        "num2 = float(input(\"Enter second number: \"))\n",
        "\n",
        "print(\"\\nBefore swapping:\")\n",
        "print(\"First number:\", num1)\n",
        "print(\"Second number:\", num2)\n",
        "\n",
        "# Swapping without using extra variable\n",
        "num1 = num1 + num2\n",
        "num2 = num1 - num2\n",
        "num1 = num1 - num2\n",
        "\n",
        "print(\"\\nAfter swapping:\")\n",
        "print(\"First number:\", num1)\n",
        "print(\"Second number:\",num2)"
      ],
      "metadata": {
        "id": "4XvRknixTh1g",
        "colab": {
          "base_uri": "https://localhost:8080/"
        },
        "outputId": "fad3d45f-a9b0-43c6-8c78-9502e8867866"
      },
      "execution_count": 23,
      "outputs": [
        {
          "output_type": "stream",
          "name": "stdout",
          "text": [
            "Enter first number: 2\n",
            "Enter second number: 4\n",
            "\n",
            "Before swapping:\n",
            "First number: 2.0\n",
            "Second number: 4.0\n",
            "\n",
            "After swapping:\n",
            "First number: 4.0\n",
            "Second number: 2.0\n"
          ]
        }
      ]
    },
    {
      "cell_type": "markdown",
      "metadata": {
        "id": "03jb4GZsBkBS"
      },
      "source": [
        "(3) Write a Python script to determine and print the length of a user-input string."
      ]
    },
    {
      "cell_type": "code",
      "execution_count": 24,
      "metadata": {
        "id": "YaGLbSHHB8Ej",
        "colab": {
          "base_uri": "https://localhost:8080/"
        },
        "outputId": "7f18640e-825d-48b4-f476-160ae5bcb93e"
      },
      "outputs": [
        {
          "output_type": "stream",
          "name": "stdout",
          "text": [
            "Enter the string: shreya\n",
            "length of the user-input string is 6\n"
          ]
        }
      ],
      "source": [
        "str1= input(\"Enter the string: \")\n",
        "l= len(str1)\n",
        "print(\"length of the user-input string is\", l)\n"
      ]
    },
    {
      "cell_type": "markdown",
      "metadata": {
        "id": "jJDe71iLB616"
      },
      "source": [
        "(4) Construct a Python program that counts and displays the occurrences of each character in a given string.\n",
        "\n",
        "Sample String: 'openai.ai',\n",
        "\n",
        "Expected Result: {'a': 2, 'i': 2, '.': 1, 'o': 1, 'p': 1, 'e': 1, 'n': 1}"
      ]
    },
    {
      "cell_type": "code",
      "execution_count": 25,
      "metadata": {
        "id": "MtKskTzbCLaU",
        "colab": {
          "base_uri": "https://localhost:8080/"
        },
        "outputId": "aebc26a7-a0a0-4634-a90b-cab153092d5f"
      },
      "outputs": [
        {
          "output_type": "stream",
          "name": "stdout",
          "text": [
            "Occurrences of each character:\n",
            "{'o': 1, 'p': 1, 'e': 1, 'n': 1, 'a': 2, 'i': 2, '.': 1}\n"
          ]
        }
      ],
      "source": [
        "# Sample string\n",
        "sample_string = 'openai.ai'\n",
        "\n",
        "# creating a dictionary to store character counts\n",
        "char_count = {}\n",
        "\n",
        "# Counting occurrences of each character\n",
        "for char in sample_string:\n",
        "    if char in char_count:\n",
        "        char_count[char] += 1\n",
        "    else:\n",
        "        char_count[char] = 1\n",
        "\n",
        "print(\"Occurrences of each character:\")\n",
        "print(char_count)\n"
      ]
    },
    {
      "cell_type": "markdown",
      "metadata": {
        "id": "55W9AMdXCSpV"
      },
      "source": [
        "(5) Design a Python code to calculate the sum of all elements in a user-provided list."
      ]
    },
    {
      "cell_type": "code",
      "execution_count": 26,
      "metadata": {
        "id": "I57NXsauCec2",
        "colab": {
          "base_uri": "https://localhost:8080/"
        },
        "outputId": "b9acf5ad-90fc-46fd-87ab-3d8118c252e9"
      },
      "outputs": [
        {
          "output_type": "stream",
          "name": "stdout",
          "text": [
            "Enter the number of elements in the list: 2\n",
            "Enter the element: 12\n",
            "Enter the element: 78\n",
            "The sum of the elements in the list is: 90\n"
          ]
        }
      ],
      "source": [
        "list1 = []\n",
        "num = int(input(\"Enter the number of elements in the list: \"))\n",
        "\n",
        "#taking dynamic input from user\n",
        "\n",
        "for i in range(num):\n",
        "  ele = int(input(\"Enter the element: \"))\n",
        "  list1.append(ele)\n",
        "\n",
        "sum = 0\n",
        "for i in list1:\n",
        "  sum = sum + i\n",
        "\n",
        "print(\"The sum of the elements in the list is:\", sum)"
      ]
    },
    {
      "cell_type": "markdown",
      "metadata": {
        "id": "4ulBZ6yhCi9F"
      },
      "source": [
        "(6) Write a Python program that modifies a given string by replacing all occurrences of its first character with '$', excluding the first character itself.\n",
        "\n",
        "\n",
        "Sample String : 'restart‘,\n",
        "\n",
        "Expected Result : 'resta\\$t'"
      ]
    },
    {
      "cell_type": "code",
      "execution_count": 27,
      "metadata": {
        "id": "Fj0XhwbBCw2o",
        "colab": {
          "base_uri": "https://localhost:8080/"
        },
        "outputId": "8af1cd7a-5f4d-438d-da01-06f5edec77af"
      },
      "outputs": [
        {
          "output_type": "stream",
          "name": "stdout",
          "text": [
            "resta$t\n"
          ]
        }
      ],
      "source": [
        "str1 = \"restart\"\n",
        "first_char = str1[0]\n",
        "new_str = first_char + str1[1:].replace(first_char, '$')\n",
        "\n",
        "print(new_str)"
      ]
    },
    {
      "cell_type": "markdown",
      "source": [
        "(7) Write a Python program using a while loop to compute the factorial of a user-supplied number."
      ],
      "metadata": {
        "id": "qVXA3q7ET5JI"
      }
    },
    {
      "cell_type": "code",
      "source": [
        "num = int(input(\"Enter a non-negative integer: \"))\n",
        "\n",
        "if num < 0:\n",
        " print(\"Factorial cannot be done for negative numbers.\")\n",
        "elif num == 0:\n",
        " print(\"The factorial of 0 is 1\")\n",
        "else:\n",
        " factorial = 1\n",
        " i = 1\n",
        " while i <= num:\n",
        "   factorial *= i\n",
        "   i += 1\n",
        " print(\"The factorial of\", num, \"is\", factorial)"
      ],
      "metadata": {
        "id": "Lbt7R6UkT7BA",
        "colab": {
          "base_uri": "https://localhost:8080/"
        },
        "outputId": "d42033a0-3363-4acf-c1b7-16f8dd543894"
      },
      "execution_count": 28,
      "outputs": [
        {
          "output_type": "stream",
          "name": "stdout",
          "text": [
            "Enter a non-negative integer: 5\n",
            "The factorial of 5 is 120\n"
          ]
        }
      ]
    },
    {
      "cell_type": "markdown",
      "source": [
        "(8) Create a program that accepts a list of numbers as input and outputs a new list containing only the even numbers."
      ],
      "metadata": {
        "id": "6YfbzXMNT--R"
      }
    },
    {
      "cell_type": "code",
      "source": [
        "numbers = []\n",
        "list1 = int(input(\"Enter the number of elements in the list: \"))\n",
        "for i in range(list1):\n",
        "  ele = int(input(\"Enter the element: \"))\n",
        "  numbers.append(ele)\n",
        "\n",
        "even_num = []\n",
        "for number in numbers:\n",
        "  if number % 2 == 0:\n",
        "    even_num.append(number)\n",
        "\n",
        "print(\"The even numbers are:\", even_num)"
      ],
      "metadata": {
        "id": "54q7wMQPUAKu",
        "colab": {
          "base_uri": "https://localhost:8080/"
        },
        "outputId": "5a156bf7-3027-4016-cb85-8d64a185d2bb"
      },
      "execution_count": 29,
      "outputs": [
        {
          "output_type": "stream",
          "name": "stdout",
          "text": [
            "Enter the number of elements in the list: 4\n",
            "Enter the element: 5\n",
            "Enter the element: 4\n",
            "Enter the element: 9\n",
            "Enter the element: 7\n",
            "The even numbers are: [4]\n"
          ]
        }
      ]
    },
    {
      "cell_type": "markdown",
      "metadata": {
        "id": "_bIP7s1MCzue"
      },
      "source": [
        "\n",
        "(9) Design a Python function to check if a number is prime.\n"
      ]
    },
    {
      "cell_type": "code",
      "execution_count": 30,
      "metadata": {
        "id": "w79QilHXD3Mg",
        "colab": {
          "base_uri": "https://localhost:8080/"
        },
        "outputId": "c7df170a-5240-4f51-ecf1-615e86a58a3f"
      },
      "outputs": [
        {
          "output_type": "stream",
          "name": "stdout",
          "text": [
            "Enter a number: 5\n",
            "5 is a prime number\n"
          ]
        }
      ],
      "source": [
        "num = int(input(\"Enter a number: \"))\n",
        "\n",
        "if num <= 1:\n",
        " print(num, \"is not a prime number\")\n",
        "elif num <= 3:\n",
        " print(num, \"is a prime number\")\n",
        "elif num % 2 == 0 or num % 3 == 0:\n",
        " print(num, \"is not a prime number\")\n",
        "\n",
        "i = 5\n",
        "while i * i <= num:\n",
        " if num % i == 0 or num % (i + 2) == 0:\n",
        "   print(num, \"is not a prime number\")\n",
        "   break\n",
        " i += 6\n",
        "\n",
        "if i * i > num:\n",
        " print(num, \"is a prime number\")\n"
      ]
    },
    {
      "cell_type": "markdown",
      "metadata": {
        "id": "xCa2bK9aD4Q3"
      },
      "source": [
        "(10) Write a Python program to concatenate following dictionaries to create a new one.\n",
        "\n",
        "Sample Dictionary : dic1={1:10, 2:20}, dic2={3:30, 4:40}, dic3={5:50,6:60},\n",
        "\n",
        "Expected Result : {1: 10, 2: 20, 3: 30, 4: 40, 5: 50, 6: 60}\n"
      ]
    },
    {
      "cell_type": "code",
      "execution_count": 31,
      "metadata": {
        "id": "_z4aLqAbEET1",
        "colab": {
          "base_uri": "https://localhost:8080/"
        },
        "outputId": "fe15d350-b828-4c20-e926-edfb98e6f6ea"
      },
      "outputs": [
        {
          "output_type": "stream",
          "name": "stdout",
          "text": [
            "{1: 10, 2: 20, 3: 30, 4: 40, 5: 50, 6: 60}\n"
          ]
        }
      ],
      "source": [
        "dic1 = {1: 10, 2: 20}\n",
        "dic2 = {3: 30, 4: 40}\n",
        "dic3 = {5: 50, 6: 60}\n",
        "\n",
        "# Create an empty dictionary to store the final result\n",
        "final_dict = {}\n",
        "\n",
        "# Iterate through each dictionary and add its key-value pairs to the result dictionary\n",
        "for d in [dic1, dic2, dic3]:\n",
        "  final_dict.update(d)\n",
        "\n",
        "# Print the final dictionary\n",
        "print(final_dict)\n"
      ]
    },
    {
      "cell_type": "markdown",
      "source": [
        "(11) Design a Python function that takes a tuple of integers as input and returns the largest and smallest elements."
      ],
      "metadata": {
        "id": "bkyZ2xSZUOst"
      }
    },
    {
      "cell_type": "code",
      "source": [
        "numbers = []\n",
        "num = int(input(\"Enter the number of elements in the tuple: \"))\n",
        "for i in range(num):\n",
        "  ele = int(input(\"Enter the element: \"))\n",
        "  numbers.append(ele)\n",
        "\n",
        "tuple_of_numbers = tuple(numbers)\n",
        "\n",
        "largest = None\n",
        "smallest = None\n",
        "\n",
        "for num in tuple_of_numbers:\n",
        "    if largest is None or num > largest:\n",
        "        largest = num\n",
        "    if smallest is None or num < smallest:\n",
        "        smallest = num\n",
        "\n",
        "print(\"Largest element:\", largest)\n",
        "print(\"Smallest element:\", smallest)"
      ],
      "metadata": {
        "id": "3FdLRBKOUQEd",
        "colab": {
          "base_uri": "https://localhost:8080/"
        },
        "outputId": "474c3887-429e-4315-c7e7-4ad33facd7cf"
      },
      "execution_count": 32,
      "outputs": [
        {
          "output_type": "stream",
          "name": "stdout",
          "text": [
            "Enter the number of elements in the tuple: 2\n",
            "Enter the element: 14\n",
            "Enter the element: 23\n",
            "Largest element: 23\n",
            "Smallest element: 14\n"
          ]
        }
      ]
    },
    {
      "cell_type": "markdown",
      "source": [
        "(12) Write a Python program that counts the frequency of each character in a given string and stores it in a dictionary."
      ],
      "metadata": {
        "id": "O0TVi3gKUTpp"
      }
    },
    {
      "cell_type": "code",
      "source": [
        "str1 = input(\"Enter a string: \")\n",
        "\n",
        "char_counts = {}\n",
        "\n",
        "for char in str1:\n",
        " if char in char_counts:\n",
        "   char_counts[char] += 1\n",
        " else:\n",
        "   char_counts[char] = 1\n",
        "\n",
        "print(char_counts)"
      ],
      "metadata": {
        "id": "lAtfSfZXUU-h",
        "colab": {
          "base_uri": "https://localhost:8080/"
        },
        "outputId": "d90cff41-196e-465e-a860-58aa8b3d2009"
      },
      "execution_count": 33,
      "outputs": [
        {
          "output_type": "stream",
          "name": "stdout",
          "text": [
            "Enter a string: shreya\n",
            "{'s': 1, 'h': 1, 'r': 1, 'e': 1, 'y': 1, 'a': 1}\n"
          ]
        }
      ]
    },
    {
      "cell_type": "markdown",
      "metadata": {
        "id": "0v48Vqa7FrQh"
      },
      "source": [
        "(13) Implement a Python script to identify duplicate elements in a provided array of integers. Return -1 if there are no duplicates."
      ]
    },
    {
      "cell_type": "code",
      "execution_count": 34,
      "metadata": {
        "id": "7WEmgq-DF2P1",
        "colab": {
          "base_uri": "https://localhost:8080/"
        },
        "outputId": "ae7bfdf9-34bf-40b1-8eca-ae31319a84fd"
      },
      "outputs": [
        {
          "output_type": "stream",
          "name": "stdout",
          "text": [
            "Enter the number of elements in the array: 3\n",
            "Enter the element: 12\n",
            "Enter the element: 15\n",
            "Enter the element: 18\n",
            "No duplicates found.\n"
          ]
        }
      ],
      "source": [
        "array = []\n",
        "num = int(input(\"Enter the number of elements in the array: \"))\n",
        "for i in range(num):\n",
        " ele = int(input(\"Enter the element: \"))\n",
        " array.append(ele)\n",
        "\n",
        "found = set()\n",
        "for num in array:\n",
        " if num in found:\n",
        "   print(\"The following duplicate element is found in the array:\", num)\n",
        "   break\n",
        " else:\n",
        "   found.add(num)\n",
        "else:\n",
        " print(\"No duplicates found.\")"
      ]
    },
    {
      "cell_type": "markdown",
      "metadata": {
        "id": "vD5PYLMuGga_"
      },
      "source": [
        "(14) Write a Python script to find the common elements between two lists."
      ]
    },
    {
      "cell_type": "code",
      "execution_count": 35,
      "metadata": {
        "id": "t0D5kdJUGjjw",
        "colab": {
          "base_uri": "https://localhost:8080/"
        },
        "outputId": "16cd3720-013e-454f-814b-3199c6a581dd"
      },
      "outputs": [
        {
          "output_type": "stream",
          "name": "stdout",
          "text": [
            "Enter the number of elements in the first list: 2\n",
            "Enter the element: 36\n",
            "Enter the element: 23\n",
            "Enter the number of elements in the second list: 2\n",
            "Enter the element: 45\n",
            "Enter the element: 89\n",
            "Common elements are: []\n"
          ]
        }
      ],
      "source": [
        "list1 = []\n",
        "list2 = []\n",
        "\n",
        "num1 = int(input(\"Enter the number of elements in the first list: \"))\n",
        "for i in range(num1):\n",
        "  ele = int(input(\"Enter the element: \"))\n",
        "  list1.append(ele)\n",
        "\n",
        "num2 = int(input(\"Enter the number of elements in the second list: \"))\n",
        "for i in range(num2):\n",
        "  ele = int(input(\"Enter the element: \"))\n",
        "  list2.append(ele)\n",
        "\n",
        "common_elements = []\n",
        "\n",
        "for ele in list1:\n",
        "  if ele in list2 and ele not in common_elements:\n",
        "    common_elements.append(ele)\n",
        "\n",
        "print(\"Common elements are:\", common_elements)\n"
      ]
    },
    {
      "cell_type": "markdown",
      "metadata": {
        "id": "uHkd-y5VhVWC"
      },
      "source": [
        "(15) Write a Python program to randomly divide the students in this class into six groups for term projects, each group should have at least 4 students but no more than 6 students (including 6).\n",
        "\n",
        "Here is the students list:\n",
        "\n",
        "student_list_spring_2024=[rb0846,\n",
        "ac1964,\n",
        "hc0612,\n",
        "md0912,\n",
        "ad1198,\n",
        "md0894,\n",
        "md0825,\n",
        "vg0598,\n",
        "vg0433,\n",
        "mh1068,\n",
        "yj0173,\n",
        "pk0553,\n",
        "tk0411,\n",
        "srk0204,\n",
        "sk2922,\n",
        "sk2936,\n",
        "mk1302,\n",
        "mk1317,\n",
        "tk0412,\n",
        "vk0656,\n",
        "sm2985,\n",
        "mm2372,\n",
        "un0045,\n",
        "an0892,\n",
        "sn0913,\n",
        "gp0252,\n",
        "ap1484,\n",
        "mr1765,\n",
        "sr1385,\n",
        "sr1335,\n",
        "hs0665,\n",
        "ms2060,\n",
        "gt0217,\n",
        "nt0385,\n",
        "tv0186,\n",
        "sv1394,\n",
        "sv1752,\n",
        "sv1555,\n",
        "sy0594\n",
        "]\n"
      ]
    },
    {
      "cell_type": "code",
      "execution_count": 36,
      "metadata": {
        "id": "3iGbmcOBhTwy",
        "colab": {
          "base_uri": "https://localhost:8080/"
        },
        "outputId": "99f4dc20-177c-4a11-8e49-e23c91fb8a13"
      },
      "outputs": [
        {
          "output_type": "stream",
          "name": "stdout",
          "text": [
            "Group 1: ['tk0411', 'gp0252', 'ac1964', 'nt0385', 'sr1385', 'hc0612', 'hs0665']\n",
            "Group 2: ['vg0598', 'md0825', 'tk0412', 'gt0217', 'mh1068', 'ap1484', 'mm2372']\n",
            "Group 3: ['sv1555', 'sv1394', 'md0912', 'rb0846', 'vg0433', 'sv1752', 'an0892']\n",
            "Group 4: ['ms2060', 'mk1317', 'md0894', 'ad1198', 'sy0594', 'yj0173']\n",
            "Group 5: ['un0045', 'mr1765', 'pk0553', 'srk0204', 'tv0186', 'sn0913']\n",
            "Group 6: ['mk1302', 'sk2922', 'sm2985', 'vk0656', 'sr1335', 'sk2936']\n"
          ]
        }
      ],
      "source": [
        "\n",
        "import random\n",
        "\n",
        "student_list_spring_2024 = ['rb0846', 'ac1964', 'hc0612', 'md0912', 'ad1198', 'md0894', 'md0825', 'vg0598', 'vg0433', 'mh1068', 'yj0173', 'pk0553', 'tk0411', 'srk0204', 'sk2922', 'sk2936', 'mk1302', 'mk1317', 'tk0412', 'vk0656', 'sm2985', 'mm2372', 'un0045', 'an0892', 'sn0913', 'gp0252', 'ap1484', 'mr1765', 'sr1385', 'sr1335', 'hs0665', 'ms2060', 'gt0217', 'nt0385', 'tv0186', 'sv1394', 'sv1752', 'sv1555', 'sy0594']\n",
        "\n",
        "# Shuffle the student list\n",
        "random.shuffle(student_list_spring_2024)\n",
        "\n",
        "# Calculate the number of students in each group\n",
        "group_size = len(student_list_spring_2024) // 6\n",
        "remaining_students = len(student_list_spring_2024) % 6\n",
        "\n",
        "# Divide the students into groups\n",
        "groups = []\n",
        "start_index = 0\n",
        "\n",
        "for i in range(6):\n",
        "    # Calculate the group size for the current group\n",
        "    current_group_size = group_size\n",
        "    if remaining_students > 0:\n",
        "        current_group_size += 1\n",
        "        remaining_students -= 1\n",
        "\n",
        "    # Get the students for the current group\n",
        "    current_group = student_list_spring_2024[start_index:start_index + current_group_size]\n",
        "\n",
        "    # Add the current group to the list of groups\n",
        "    groups.append(current_group)\n",
        "\n",
        "    # Update the start index for the next group\n",
        "    start_index += current_group_size\n",
        "\n",
        "# Print the groups\n",
        "for i, group in enumerate(groups):\n",
        "    print(f\"Group {i+1}: {group}\")\n"
      ]
    },
    {
      "cell_type": "markdown",
      "metadata": {
        "id": "fmZ9vX20Qs3d"
      },
      "source": [
        "(16) Create a program that takes a positive integer 'n' as input and prints the count of even numbers from 1 to 'n'. Optimize the loop using the break statement."
      ]
    },
    {
      "cell_type": "code",
      "execution_count": 37,
      "metadata": {
        "id": "W8Jw6sWMQs3d",
        "colab": {
          "base_uri": "https://localhost:8080/"
        },
        "outputId": "02d535b5-ad54-4a14-85fc-9dcee35d30d3"
      },
      "outputs": [
        {
          "output_type": "stream",
          "name": "stdout",
          "text": [
            "Enter a positive integer: 8\n",
            "The count of even numbers from 1 to 8 is 4\n"
          ]
        }
      ],
      "source": [
        "n = int(input(\"Enter a positive integer: \"))\n",
        "\n",
        "if n <= 0:\n",
        " print(\"Invalid input. Please enter a positive integer.\")\n",
        "else:\n",
        " count = 0\n",
        " i = 1\n",
        " while i <= n:\n",
        "   if i % 2 == 0:\n",
        "     count += 1\n",
        "     if i == n:  # Optimize by breaking early if i reaches n\n",
        "       break\n",
        "   i += 1\n",
        "\n",
        " print(\"The count of even numbers from 1 to\", n, \"is\", count)"
      ]
    },
    {
      "cell_type": "markdown",
      "metadata": {
        "id": "hvq4APMhQs3d"
      },
      "source": [
        "(17) Develop a Python function called 'count_vowels' that takes a string as input and returns the count of vowels (both lowercase and uppercase) present in the string, ignoring spaces and non-alphabetic characters."
      ]
    },
    {
      "cell_type": "code",
      "execution_count": 38,
      "metadata": {
        "id": "ZnoxhSglQs3d",
        "colab": {
          "base_uri": "https://localhost:8080/"
        },
        "outputId": "beab732e-9a76-4a01-f0b8-0f78fc089a78"
      },
      "outputs": [
        {
          "output_type": "stream",
          "name": "stdout",
          "text": [
            "Enter a string: shreya\n",
            "The number of vowels in the string is: 2\n"
          ]
        }
      ],
      "source": [
        "str1 = input(\"Enter a string: \")\n",
        "vowels = \"aeiouAEIOU\"\n",
        "count = 0\n",
        "\n",
        "for char in str1:\n",
        "  if char.isalpha() and char in vowels:\n",
        "    count += 1\n",
        "\n",
        "print(\"The number of vowels in the string is:\", count)"
      ]
    },
    {
      "cell_type": "markdown",
      "source": [
        "(18) Create a custom exception named ValueTooSmallError in Python. Write a program that takes user input for an age, and if the entered age is less than 18, raise the ValueTooSmallError with an appropriate error message."
      ],
      "metadata": {
        "id": "55FWoSJPVVM6"
      }
    },
    {
      "cell_type": "code",
      "source": [
        "# Custom exception\n",
        "class ValueTooSmallError(Exception):\n",
        "    pass\n",
        "\n",
        "# Taking user input\n",
        "age = int(input(\"Enter your age: \"))\n",
        "\n",
        "# Checking if age is less than 18 and raising the exception if needed\n",
        "if age < 18:\n",
        "    raise ValueTooSmallError(\"Age should be equal to or greater than 18\")\n",
        "else:\n",
        "    print(\"Age is valid\")"
      ],
      "metadata": {
        "id": "hwtr1wZmVX5A",
        "colab": {
          "base_uri": "https://localhost:8080/"
        },
        "outputId": "e451faac-6480-4cea-aa41-3d2f666deb09"
      },
      "execution_count": 40,
      "outputs": [
        {
          "output_type": "stream",
          "name": "stdout",
          "text": [
            "Enter your age: 24\n",
            "Age is valid\n"
          ]
        }
      ]
    },
    {
      "cell_type": "markdown",
      "source": [
        "(19) Develop a script that reverses a given string without using built-in reverse functions."
      ],
      "metadata": {
        "id": "Q9ecagcaVazW"
      }
    },
    {
      "cell_type": "code",
      "source": [
        "str1 = input(\"Enter a string: \")\n",
        "reversed_string = \"\"\n",
        "\n",
        "for char in str1:\n",
        "  reversed_string = char + reversed_string\n",
        "\n",
        "print(\"The reversed string is:\", reversed_string)"
      ],
      "metadata": {
        "id": "gycgckoAVZjR",
        "colab": {
          "base_uri": "https://localhost:8080/"
        },
        "outputId": "5293cb86-96e9-44bd-8a90-9a1ee41960bc"
      },
      "execution_count": 41,
      "outputs": [
        {
          "output_type": "stream",
          "name": "stdout",
          "text": [
            "Enter a string: shreya\n",
            "The reversed string is: ayerhs\n"
          ]
        }
      ]
    },
    {
      "cell_type": "markdown",
      "source": [
        "(20) Implement a Python script to generate a random password of a specified length."
      ],
      "metadata": {
        "id": "ZFG6RibifMLu"
      }
    },
    {
      "cell_type": "code",
      "source": [
        "import random\n",
        "import string\n",
        "\n",
        "def generate_random_password(length):\n",
        " \"\"\"Generates a random password of the specified length.\"\"\"\n",
        "\n",
        " characters = string.ascii_letters + string.digits + string.punctuation\n",
        " password = ''.join(random.choice(characters) for i in range(length))\n",
        " return password\n",
        "\n",
        "password_length = int(input(\"Enter the desired password length: \"))\n",
        "password = generate_random_password(password_length)\n",
        "print(\"Your random password is:\", password)"
      ],
      "metadata": {
        "id": "BFVrkEi9fNiD",
        "colab": {
          "base_uri": "https://localhost:8080/"
        },
        "outputId": "9defdd19-5ae4-4d3c-b4fa-dc269a0e49f0"
      },
      "execution_count": 42,
      "outputs": [
        {
          "output_type": "stream",
          "name": "stdout",
          "text": [
            "Enter the desired password length: 9\n",
            "Your random password is: y)Q0wf$U'\n"
          ]
        }
      ]
    },
    {
      "cell_type": "markdown",
      "source": [
        "# Try these questions:"
      ],
      "metadata": {
        "id": "6SmvS7nSfbj8"
      }
    },
    {
      "cell_type": "markdown",
      "source": [
        "(21) Define a base class called 'Vehicle' with attributes make and model. Create a derived class Car that inherits from Vehicle and has an additional attribute 'num_doors'. Demonstrate an example of creating an instance of the 'Car' class and accessing its attributes."
      ],
      "metadata": {
        "id": "cboAr5pEWUf5"
      }
    },
    {
      "cell_type": "code",
      "source": [
        "class Vehicle:\n",
        " \"\"\"Base class representing a vehicle.\"\"\"\n",
        "\n",
        " def __init__(self, make, model):\n",
        "   self.make = make\n",
        "   self.model = model\n",
        "\n",
        "class Car(Vehicle):\n",
        " \"\"\"Derived class representing a car.\"\"\"\n",
        "\n",
        " def __init__(self, make, model, num_doors):\n",
        "   super().__init__(make, model)\n",
        "   self.num_doors = num_doors\n",
        "\n",
        "# Create an instance of the Car class\n",
        "my_car = Car(\"Toyota\", \"Camry\", 4)\n",
        "\n",
        "# Access the attributes of the Car instance\n",
        "print(\"Make:\", my_car.make)\n",
        "print(\"Model:\", my_car.model)\n",
        "print(\"Number of doors:\", my_car.num_doors)"
      ],
      "metadata": {
        "id": "phs9gciMWWAW",
        "colab": {
          "base_uri": "https://localhost:8080/"
        },
        "outputId": "ae148ce0-cbdd-4f56-9cf4-b47d60b2e1b7"
      },
      "execution_count": 43,
      "outputs": [
        {
          "output_type": "stream",
          "name": "stdout",
          "text": [
            "Make: Toyota\n",
            "Model: Camry\n",
            "Number of doors: 4\n"
          ]
        }
      ]
    },
    {
      "cell_type": "markdown",
      "source": [
        "(22) Create a class called 'Shape' with a method calculate_area(). Implement two derived classes 'Circle' and 'Rectangle' that inherit from Shape and override the calculate_area() method. Demonstrate polymorphism by creating instances of both derived classes and calling the calculate_area() method."
      ],
      "metadata": {
        "id": "J8HHefNtePwd"
      }
    },
    {
      "cell_type": "code",
      "source": [
        "import math\n",
        "\n",
        "class Shape:\n",
        "  \"\"\"Base class representing a shape.\"\"\"\n",
        "\n",
        "  def calculate_area(self):\n",
        "    raise NotImplementedError(\"Derived classes must implement this method.\")\n",
        "\n",
        "class Circle(Shape):\n",
        "  \"\"\"Derived class representing a circle.\"\"\"\n",
        "\n",
        "  def __init__(self, radius):\n",
        "    self.radius = radius\n",
        "\n",
        "  def calculate_area(self):\n",
        "    return math.pi * self.radius**2\n",
        "\n",
        "class Rectangle(Shape):\n",
        "  \"\"\"Derived class representing a rectangle.\"\"\"\n",
        "\n",
        "  def __init__(self, length, width):\n",
        "    self.length = length\n",
        "    self.width = width\n",
        "\n",
        "  def calculate_area(self):\n",
        "    return self.length * self.width\n",
        "\n",
        "# Create instances of Circle and Rectangle\n",
        "circle = Circle(5)\n",
        "rectangle = Rectangle(4, 6)\n",
        "\n",
        "# Demonstrate polymorphism by calling calculate_area() method on both instances\n",
        "print(\"Area of circle:\", circle.calculate_area())\n",
        "print(\"Area of rectangle:\", rectangle.calculate_area())"
      ],
      "metadata": {
        "id": "btnMmUZDeRhS",
        "colab": {
          "base_uri": "https://localhost:8080/"
        },
        "outputId": "19b49c74-5457-4bb1-eb1f-ad420f44b173"
      },
      "execution_count": 44,
      "outputs": [
        {
          "output_type": "stream",
          "name": "stdout",
          "text": [
            "Area of circle: 78.53981633974483\n",
            "Area of rectangle: 24\n"
          ]
        }
      ]
    },
    {
      "cell_type": "markdown",
      "source": [
        "(23) Write a Python program that prompts the user to enter two numbers and perform a division operation. Handle exceptions for both zero division and invalid input (non-numeric input). Display appropriate error messages for each type of exception and ensure the program does not crash due to these errors."
      ],
      "metadata": {
        "id": "z0oqEAlTeMUS"
      }
    },
    {
      "cell_type": "code",
      "source": [
        "while True:\n",
        "  try:\n",
        "    num1 = float(input(\"Enter the first number: \"))\n",
        "    num2 = float(input(\"Enter the second number: \"))\n",
        "    result = num1 / num2\n",
        "    print(\"The result of the division is:\", result)\n",
        "    break\n",
        "  except ValueError:\n",
        "    print(\"Invalid input. Please enter numbers only.\")\n",
        "  except ZeroDivisionError:\n",
        "    print(\"Error: Cannot divide by zero.\")"
      ],
      "metadata": {
        "id": "yjdc1zM1eMAs",
        "colab": {
          "base_uri": "https://localhost:8080/"
        },
        "outputId": "62bf4c18-88ed-40f9-aafd-bbfe96facae6"
      },
      "execution_count": 45,
      "outputs": [
        {
          "output_type": "stream",
          "name": "stdout",
          "text": [
            "Enter the first number: 45\n",
            "Enter the second number: 68\n",
            "The result of the division is: 0.6617647058823529\n"
          ]
        }
      ]
    },
    {
      "cell_type": "markdown",
      "source": [
        "# Mandatory Question"
      ],
      "metadata": {
        "id": "sZOhks1dXWEe"
      }
    },
    {
      "cell_type": "markdown",
      "source": [
        "**Important:**\n",
        "Reflecting on the first three lectures and the exercises you've completed, please provide feedback on your learning experience. Share your thoughts on whether the material covered was clear, the exercises were helpful, and if you feel more confident in applying Python programming concepts. Additionally, mention any specific areas where you would like more clarification or topics you would like to explore further in future lectures. Your feedback is valuable in shaping the course for an effective learning journey."
      ],
      "metadata": {
        "id": "eqmHVEwaWhbV"
      }
    },
    {
      "cell_type": "markdown",
      "source": [
        "Write your response here."
      ],
      "metadata": {
        "id": "HlpXOT9wXQAd"
      }
    },
    {
      "cell_type": "markdown",
      "source": [
        " The first three lectures have covered a good foundation of essential Python concepts. Coming to material/ppt the explanation is neat but for students who are out of the basic race needs more clarity(i feel). But the exercises where helpful to understand the concepts. I feel functions and OOPs concepts should be clarifired more with few more examples."
      ],
      "metadata": {
        "id": "meNOADsobY3e"
      }
    }
  ],
  "metadata": {
    "colab": {
      "provenance": []
    },
    "kernelspec": {
      "display_name": "Python 3 (ipykernel)",
      "language": "python",
      "name": "python3"
    },
    "language_info": {
      "codemirror_mode": {
        "name": "ipython",
        "version": 3
      },
      "file_extension": ".py",
      "mimetype": "text/x-python",
      "name": "python",
      "nbconvert_exporter": "python",
      "pygments_lexer": "ipython3",
      "version": "3.9.12"
    }
  },
  "nbformat": 4,
  "nbformat_minor": 0
}