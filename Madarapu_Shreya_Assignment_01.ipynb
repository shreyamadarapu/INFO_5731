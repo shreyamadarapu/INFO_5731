{
  "cells": [
    {
      "cell_type": "markdown",
      "metadata": {
        "id": "view-in-github",
        "colab_type": "text"
      },
      "source": [
        "<a href=\"https://colab.research.google.com/github/shreyamadarapu/INFO_5731/blob/main/Madarapu_Shreya_Assignment_01.ipynb\" target=\"_parent\"><img src=\"https://colab.research.google.com/assets/colab-badge.svg\" alt=\"Open In Colab\"/></a>"
      ]
    },
    {
      "cell_type": "markdown",
      "metadata": {
        "id": "Ryk8D1Q4Wsrp"
      },
      "source": [
        "# **INFO5731 Assignment One**"
      ]
    },
    {
      "cell_type": "markdown",
      "source": [
        "This assignment includes range of programming tasks and data analysis exercises, aiming to enhance your Python skills and proficiency in string manipulation, numerical computations, and data science. Follow the instructions carefully and design well-structured Python programs to address each question.\n",
        "\n",
        "Late Submission will have a penalty of 10% reduction for each day after the deadline."
      ],
      "metadata": {
        "id": "qcP6re2g5A5r"
      }
    },
    {
      "cell_type": "markdown",
      "metadata": {
        "id": "JkzR8cFAyGik"
      },
      "source": [
        "# Question 1 (10 points).\n",
        "\n",
        "The formula that describes the volume V of a hemisphere with radius r is the following:\n",
        "\n",
        "$ V=\\frac{2}{3}\\ast\\ \\pi\\ast\\ r^3 $\n",
        "\n",
        "Write a program to calculate the value of V when r is in the range of even numbers from 1-20. Output the result in the following format:\n",
        "\n",
        "\tr\tV\n",
        "\t2\t…\n",
        "\t4\t…\n",
        "\t6\t…\n",
        "\t.\n",
        "\t.\n",
        "\t.\n",
        "\t20\t…\n"
      ]
    },
    {
      "cell_type": "code",
      "execution_count": null,
      "metadata": {
        "id": "jDyTKYs-yGit",
        "colab": {
          "base_uri": "https://localhost:8080/"
        },
        "outputId": "0f0e7224-0125-4679-866e-4bc6f23fbf5b"
      },
      "outputs": [
        {
          "output_type": "stream",
          "name": "stdout",
          "text": [
            "r    V\n",
            "1     4.19\n",
            "2     33.51\n",
            "3     113.10\n",
            "4     268.08\n",
            "5     523.60\n",
            "6     904.78\n",
            "7     1436.76\n",
            "8     2144.66\n",
            "9     3053.63\n",
            "10     4188.79\n",
            "11     5575.28\n",
            "12     7238.23\n",
            "13     9202.77\n",
            "14     11494.04\n",
            "15     14137.17\n",
            "16     17157.28\n",
            "17     20579.53\n",
            "18     24429.02\n",
            "19     28730.91\n",
            "20     33510.32\n"
          ]
        }
      ],
      "source": [
        "# (1) calculate volume of sphere, the value of V when r is in the range of 1– 20\n",
        "\n",
        "import math\n",
        "\n",
        "def sphere_volume(rad):\n",
        "    return 4/3 * math.pi * rad ** 3\n",
        "print(\"r    V\")\n",
        "for r in range(1, 21):\n",
        "    volume = sphere_volume(r)\n",
        "    print(f\"{r}     {volume:.2f}\")"
      ]
    },
    {
      "cell_type": "markdown",
      "metadata": {
        "id": "90_NR8c5XGWc"
      },
      "source": [
        "# Question 2 (20 points)\n",
        "\n",
        "(a) Write a Python program to generate a sequence of 12 random numbers falling within the range of 50 to 150.\n",
        "\n",
        "(b) Arrange the generated numbers in ascending order. Display the sorted list.\n",
        "\n",
        "(c) Extend the program to arrange the numbers in descending order as well. Present the sorted list accordingly.\n",
        "\n",
        "(d) Compute and output the average of the entire group of generated numbers.\n",
        "\n",
        "(e) Enhance the program to calculate and display the average of the first 6 numbers from both the ascending and descending sorted lists."
      ]
    },
    {
      "cell_type": "code",
      "execution_count": null,
      "metadata": {
        "id": "5QX6bJjGWXY9",
        "colab": {
          "base_uri": "https://localhost:8080/"
        },
        "outputId": "9a4483a8-1817-4e2d-b6aa-40ebda286104"
      },
      "outputs": [
        {
          "output_type": "stream",
          "name": "stdout",
          "text": [
            "Ascending order random list is: [53, 57, 58, 75, 92, 114, 118, 121, 121, 125, 134, 146]\n",
            "Descending order random list is: [146, 134, 125, 121, 121, 118, 114, 92, 75, 58, 57, 53]\n",
            "Average of entire group: 101.16666666666667\n",
            "Average of first 6 numbers from ascending sorted list: 74.83333333333333\n",
            "Average of first 6 numbers from descending sorted list: 127.5\n"
          ]
        }
      ],
      "source": [
        "import random\n",
        "\n",
        "# (a) Generate a sequence of 12 random numbers falling within the range of 50 to 150\n",
        "random_numbers = [random.randint(50, 150) for _ in range(12)]  #to generate random numbers within given range we use randint\n",
        "\n",
        "# (b) Arrange the generated numbers in ascending order and display the sorted list\n",
        "ascending_sorted = sorted(random_numbers)\n",
        "print(\"Ascending order random list is:\", ascending_sorted)\n",
        "\n",
        "# (c) Arrange the numbers in descending order and display the sorted list\n",
        "descending_sorted = sorted(random_numbers, reverse=True)\n",
        "print(\"Descending order random list is:\", descending_sorted)\n",
        "\n",
        "# (d) Compute and output the average of the entire group of generated numbers\n",
        "average = sum(random_numbers) / len(random_numbers)\n",
        "print(\"Average of entire group:\", average)\n",
        "\n",
        "# (e) Calculate and display the average of the first 6 numbers from both the ascending and descending sorted lists\n",
        "average_first_6_asc = sum(ascending_sorted[:6]) / 6\n",
        "average_first_6_desc = sum(descending_sorted[:6]) / 6\n",
        "print(\"Average of first 6 numbers from ascending sorted list:\", average_first_6_asc)\n",
        "print(\"Average of first 6 numbers from descending sorted list:\", average_first_6_desc)"
      ]
    },
    {
      "cell_type": "markdown",
      "metadata": {
        "id": "1F_PZdH9Sh49"
      },
      "source": [
        "# Question 3 (20 points).\n",
        "\n",
        "Create a Python program that encompasses various string manipulation task:\n",
        "\n",
        "(a) Prompt the user to input two sentences.\n",
        "\n",
        "(b) Transform each sentence into a list, where each element corresponds to a word in the sentence. For example, if the sentences are \"Hello, how are you doing today?\" and \"This is an example sentence for the program!\"\n",
        "\n",
        "The program should output:\n",
        "['Hello', ',', 'how', 'are', 'you', 'doing', 'today', '?', 'This', 'is', 'an', 'example', 'sentence', 'for', 'the', 'program', '!']\n",
        "\n",
        "(c) Compare the two sentences. Print out a list of words that occur in both sentences.\n",
        "\n",
        "(d) Remove any punctuation from the sentence and print the sanitized sentences. It should remove at least the following characters, but it can remove more: period(“.”), comma (“,”), semicolon (“;”), and colon (“:”).\n",
        "\n",
        "(e) Count the number of vowels in each of the sentences. Print out each vowel and the occurrences  in the each of the two sentences separately, such as:\n",
        "\n",
        "Sentence1: a:2, e:2, i:0, etc.\n",
        "Sentence2: a:1, e:2, i:2, etc.\n",
        "\n",
        "Design a well-structured Python program to execute these tasks efficiently."
      ]
    },
    {
      "cell_type": "code",
      "execution_count": null,
      "metadata": {
        "id": "Y0oOSlsOS0cq",
        "colab": {
          "base_uri": "https://localhost:8080/"
        },
        "outputId": "305a03cd-869e-415c-cc24-29449f53963f"
      },
      "outputs": [
        {
          "output_type": "stream",
          "name": "stdout",
          "text": [
            "Enter the first sentence: This is an example sentence for the program!\n",
            "Enter the second sentence: Hello, how are you doing today?\n",
            "List of words in sentence 1: ['This', 'is', 'an', 'example', 'sentence', 'for', 'the', 'program', '!']\n",
            "List of words in sentence 2: ['Hello', ',', 'how', 'are', 'you', 'doing', 'today', '?']\n",
            "Words occurring in both sentences: []\n",
            "Sanitized sentence 1: This is an example sentence for the program!\n",
            "Sanitized sentence 2: Hello how are you doing today?\n",
            "Vowel counts in sentence 1: {'a': 3, 'e': 6, 'i': 2, 'o': 2, 'u': 0}\n",
            "Vowel counts in sentence 2: {'a': 2, 'e': 2, 'i': 1, 'o': 5, 'u': 1}\n"
          ]
        }
      ],
      "source": [
        "import re\n",
        "\n",
        "def removing_punctuation(sentence):\n",
        "    return re.sub(r'[^\\w\\s?!\\.]', '', sentence)\n",
        "\n",
        "def vowels_count(sentence):\n",
        "    vowels = 'aeiou'\n",
        "    vowel_count = {vowel: 0 for vowel in vowels}\n",
        "    for char in sentence:\n",
        "        if char.lower() in vowels:\n",
        "            vowel_count[char.lower()] += 1\n",
        "    return vowel_count\n",
        "\n",
        "def main():\n",
        "    sentence_line1 = input(\"Enter the first sentence: \")\n",
        "    sentence_line2 = input(\"Enter the second sentence: \")\n",
        "\n",
        "    sentence_line1_sanitized = removing_punctuation(sentence_line1)\n",
        "    sentence_line2_sanitized = removing_punctuation(sentence_line2)\n",
        "\n",
        "    sentence_line1_words = re.findall(r'\\w+|[^\\w\\s]', sentence_line1)\n",
        "    sentence_line2_words = re.findall(r'\\w+|[^\\w\\s]', sentence_line2)\n",
        "\n",
        "    print(\"List of words in sentence 1:\", sentence_line1_words)\n",
        "    print(\"List of words in sentence 2:\", sentence_line2_words)\n",
        "\n",
        "    common_words = set(sentence_line1_words) & set(sentence_line2_words)\n",
        "    print(\"Words occurring in both sentences:\", list(common_words))\n",
        "\n",
        "    print(\"Sanitized sentence 1:\", sentence_line1_sanitized)\n",
        "    print(\"Sanitized sentence 2:\", sentence_line2_sanitized)\n",
        "\n",
        "    vowel_count_sentence_line1 = vowels_count(sentence_line1)\n",
        "    vowel_count_sentence_line2 = vowels_count(sentence_line2)\n",
        "    print(\"Vowel counts in sentence 1:\", vowel_count_sentence_line1)\n",
        "    print(\"Vowel counts in sentence 2:\", vowel_count_sentence_line2)\n",
        "\n",
        "if __name__ == \"__main__\":\n",
        "    main()"
      ]
    },
    {
      "cell_type": "markdown",
      "source": [
        "# Question 4 (20 Points)"
      ],
      "metadata": {
        "id": "OP4-5qxAtInv"
      }
    },
    {
      "cell_type": "markdown",
      "source": [
        "Design and implement a simple command-line calculator program. The program should handle both integers and floating-point numbers.\n",
        "\n",
        "(a) Write program that takes a mathematical expression as input and evaluates it. The program should support addition, subtraction, multiplication, and division.\n",
        "\n",
        "(b) Extend the calculator to handle parentheses in mathematical expressions. Implement the necessary logic to evaluate expressions with nested parentheses.\n",
        "\n",
        "(c) Enhance your calculator to include additional mathematical operations such as exponentiation, square root, and modulus.\n",
        "\n",
        "(d) Implement error handling in the calculator program. Handle cases such as division by zero and invalid input expressions. Provide meaningful error messages.\n",
        "\n",
        "(e) Implement a command to exit the calculator."
      ],
      "metadata": {
        "id": "uzN4_hDptK9U"
      }
    },
    {
      "cell_type": "code",
      "source": [
        "import math\n",
        "\n",
        "def evaluate_expression(expression):\n",
        "    try:\n",
        "        # Add custom functions for additional mathematical operations\n",
        "        custom_functions = {\n",
        "            \"sqrt\": math.sqrt,\n",
        "            \"pow\": pow,\n",
        "            \"mod\": math.fmod,\n",
        "        }\n",
        "\n",
        "        # Use eval() with custom functions\n",
        "        result = eval(expression, {\"__builtins__\": {}}, custom_functions)\n",
        "\n",
        "        return result\n",
        "    except ZeroDivisionError:\n",
        "        return \"Error: Division by zero is not allowed.\"\n",
        "    except SyntaxError:\n",
        "        return \"Error: Invalid input expression.\"\n",
        "    except ValueError:\n",
        "        return \"Error: Invalid input value for mathematical operation.\"\n",
        "\n",
        "def calculate():\n",
        "    while True:\n",
        "        user_input = input(\"Enter a mathematical expression (or 'exit' to quit): \")\n",
        "\n",
        "        if user_input == \"exit\":\n",
        "            break\n",
        "\n",
        "\n",
        "        #a stack data structure is used to handle nested parentheses.\n",
        "        #Whenever an opening parenthesis \"(\" is encountered, the current expression is pushed onto the stack and a new expression is started.\n",
        "        #When a closing parenthesis \")\" is encountered, the subexpression inside the parentheses is evaluated using `evaluate_expression()`,and the result is appended to the expression on top of the stack.\n",
        "\n",
        "        stack = []\n",
        "        expression = \"\"\n",
        "\n",
        "        for char in user_input:\n",
        "            if char == \"(\":\n",
        "                stack.append(expression)\n",
        "                expression = \"\"\n",
        "            elif char == \")\":\n",
        "                subexpression = expression\n",
        "                expression = stack.pop() + str(evaluate_expression(subexpression))\n",
        "            else:\n",
        "                expression += char\n",
        "\n",
        "        result = evaluate_expression(expression)\n",
        "        print(\"Result:\", result)\n",
        "\n",
        "calculate()"
      ],
      "metadata": {
        "id": "8nQnVxjJuYtu",
        "colab": {
          "base_uri": "https://localhost:8080/"
        },
        "outputId": "06c7f111-9d8d-4427-ef62-b605edf902d1"
      },
      "execution_count": null,
      "outputs": [
        {
          "name": "stdout",
          "output_type": "stream",
          "text": [
            "Enter a mathematical expression (or 'exit' to quit): 2*5/7+96\n",
            "Result: 97.42857142857143\n",
            "Enter a mathematical expression (or 'exit' to quit): exit\n"
          ]
        }
      ]
    },
    {
      "cell_type": "markdown",
      "metadata": {
        "id": "z3tBE7E-Xn5X"
      },
      "source": [
        "# Question 5 (30 points).\n",
        "\n",
        "In the field of Data Science, data is often formatted as a comma-delimited (CSV) file, where each line in a file corresponds to a field's value. Refer to Chapter 9 (p. 106) for more information on comma-delimited files.\n",
        "\n",
        "To answer this question, you will need to download the file [Assignment1_denton_housing.csv](https://raw.githubusercontent.com/unt-iialab/info5731-spring2022/main/assignments/Assignment1_denton_housing.csv) included with this assignment. The file contains statistics about housing in the city of Denton from 2008 to 2014. Write a program to implement the following questions.\n",
        "\n",
        "(a) (5 pts) Calculate the difference in the number of Occupied Housing Units from year to year and print it. The difference must be calculated for the consecutive years such as 2008-2009, 2009-2010 etc. Finally, print the values in the ascending order.\n",
        "\n",
        "(b) (5 pts) For all the years, calculate the percentage of housing units which are vacant an occupied. Print the results in the following format:\n",
        "\n",
        "Year Vacant Housing Units Occupied Housing Units\n",
        "\n",
        "    2008  30%   70%                          \n",
        "\t2009 ----- -----\n",
        "\t2010 ----- -----\n",
        "    2011 ----- -----\n",
        "\t2012 ----- -----\n",
        "    2013 ----- -----\n",
        "\t2014 ----- -----\n",
        "  \n",
        "  \n",
        "\n",
        "(c) (10 pts) Calculate and print the valued and years in which the highest number of housing units were vacant and occupied. Print the results in the following format:  \n",
        "\n",
        "                              Year\tValue\n",
        "\tVacant Housing Units\t  -----   -----\n",
        "\tOccupied Housing Units\t-----   -----\n",
        "\n",
        "(d) (10 pts) Calculate the harmonic mean of the total housing units and print it out. You can find the information about harmonic mean here: https://ncalculators.com/statistics/harmonic-mean-calculator.htm"
      ]
    },
    {
      "cell_type": "code",
      "execution_count": 1,
      "metadata": {
        "id": "lqGYuHBhcsRH",
        "colab": {
          "base_uri": "https://localhost:8080/"
        },
        "outputId": "b029263e-b7e7-446f-8f38-654ce8abfd5a"
      },
      "outputs": [
        {
          "output_type": "stream",
          "name": "stdout",
          "text": [
            "Mounted at /content/drive/\n",
            "Assignment1_denton_housing.csv\tdrive  sample_data\n"
          ]
        }
      ],
      "source": [
        "from google.colab import drive\n",
        "drive.mount('/content/drive/')\n",
        "!ls"
      ]
    },
    {
      "cell_type": "code",
      "source": [
        "#(a) Calculate the difference in the number of Occupied Housing Units from year to year and print it.\n",
        "# The difference must be calculated for the consecutive years such as 2008-2009, 2009-2010 etc.\n",
        "# Finally, print the values in the ascending order.\n",
        "\n",
        "import pandas as pd\n",
        "import statistics\n",
        "\n",
        "# Read the CSV file\n",
        "df = pd.read_csv('Assignment1_denton_housing.csv')\n",
        "\n",
        "\n",
        "#df_occupied_units = df[df['title_field'] == 'Occupied Housing Units']['value'].diff().dropna()\n",
        "df_occupied_units = df[df['title_field'] == 'Occupied Housing Units'].sort_values('year')\n",
        "df_occupied_units_diff = df_occupied_units['value'].diff().iloc[1:]\n",
        "print(\"Difference in Occupied Housing Units for the consecutive years \")\n",
        "print(df_occupied_units_diff.sort_values().to_string(index=False))"
      ],
      "metadata": {
        "id": "lizSvxiwc1gf",
        "colab": {
          "base_uri": "https://localhost:8080/"
        },
        "outputId": "a5f6b084-25a0-4036-a7ac-e5ff32e034a8"
      },
      "execution_count": 2,
      "outputs": [
        {
          "output_type": "stream",
          "name": "stdout",
          "text": [
            "Difference in Occupied Housing Units for the consecutive years \n",
            "-795.0\n",
            "-303.0\n",
            "1404.0\n",
            "1565.0\n",
            "2622.0\n",
            "5091.0\n"
          ]
        }
      ]
    },
    {
      "cell_type": "code",
      "source": [
        "#(b) For all the years, calculate the percentage of housing units which are vacant and occupied.\n",
        "\n",
        "df_vacant_units = df[df['title_field'] == 'Vacant Housing Units'].sort_values('year')\n",
        "df_total_units = df[df['title_field'] == 'Total Housing Units'].sort_values('year')\n",
        "\n",
        "print(\"\\nYear\\tVacant Housing Units\\tOccupied Housing Units\")\n",
        "\n",
        "for year in df_vacant_units['year']:\n",
        "    vacant_units = df_vacant_units[df_vacant_units['year'] == year]['value'].values[0]\n",
        "    occupied_units = df_occupied_units[df_occupied_units['year'] == year]['value'].values[0]\n",
        "    total_units = df_total_units[df_total_units['year'] == year]['value'].values[0]\n",
        "    vacant_percent = round(vacant_units / total_units * 100, 2)\n",
        "    occupied_percent = round(occupied_units / total_units * 100, 2)\n",
        "    print(f\"{year}\\t{vacant_percent}%\\t\\t\\t{occupied_percent}%\")"
      ],
      "metadata": {
        "id": "sX48guD-duju",
        "colab": {
          "base_uri": "https://localhost:8080/"
        },
        "outputId": "29902bd3-d940-4039-d02c-2f53ec7d27ea"
      },
      "execution_count": 3,
      "outputs": [
        {
          "output_type": "stream",
          "name": "stdout",
          "text": [
            "\n",
            "Year\tVacant Housing Units\tOccupied Housing Units\n",
            "2008\t10.88%\t\t\t89.12%\n",
            "2009\t9.07%\t\t\t90.93%\n",
            "2010\t8.14%\t\t\t91.86%\n",
            "2011\t9.38%\t\t\t90.62%\n",
            "2012\t6.68%\t\t\t93.32%\n",
            "2013\t8.8%\t\t\t91.2%\n",
            "2014\t5.73%\t\t\t94.27%\n"
          ]
        }
      ]
    },
    {
      "cell_type": "code",
      "source": [
        "#(C) Calculate and print the values and years in which the highest number of housing units were vacant and occupied.\n",
        "\n",
        "df_vacant_units_max = df[df['title_field'] == 'Vacant Housing Units'].sort_values('value', ascending=False).iloc[0]\n",
        "df_occupied_units_max = df[df['title_field'] == 'Occupied Housing Units'].sort_values('value', ascending=False).iloc[0]\n",
        "\n",
        "print(\"\\n\\t\\t\\tYear\\t\\tvalue\")\n",
        "\n",
        "print(f\"Vacant Housing Units\\t{df_vacant_units_max['year']}\\t\\t {df_vacant_units_max['value']}\")\n",
        "print(f\"Occupied Housing Units\\t{df_occupied_units_max['year']}\\t\\t {df_occupied_units_max['value']}\")"
      ],
      "metadata": {
        "id": "ZYXnzG4weBiW",
        "colab": {
          "base_uri": "https://localhost:8080/"
        },
        "outputId": "493668a0-c0a5-46b0-d887-98f1f8f8079b"
      },
      "execution_count": 4,
      "outputs": [
        {
          "output_type": "stream",
          "name": "stdout",
          "text": [
            "\n",
            "\t\t\tYear\t\tvalue\n",
            "Vacant Housing Units\t2008\t\t 4483\n",
            "Occupied Housing Units\t2014\t\t 46295\n"
          ]
        }
      ]
    },
    {
      "cell_type": "code",
      "source": [
        "#(D) Calculate the harmonic mean of the total housing units and print it out.\n",
        "\n",
        "df_total_housing_units = df[df['title_field'] == 'Total Housing Units'].sort_values('year')\n",
        "n = len(df_total_housing_units)\n",
        "harmonic_mean = n / (df_total_housing_units['value'].apply(lambda x: 1/x).sum())\n",
        "print(f\"Harmonic Mean of Total Housing Units: {harmonic_mean}\")"
      ],
      "metadata": {
        "id": "T0u5uhUyeKXj",
        "colab": {
          "base_uri": "https://localhost:8080/"
        },
        "outputId": "7e6bc1a4-3818-4a25-dbfd-83dc73a63dde"
      },
      "execution_count": 5,
      "outputs": [
        {
          "output_type": "stream",
          "name": "stdout",
          "text": [
            "Harmonic Mean of Total Housing Units: 44398.28543969185\n"
          ]
        }
      ]
    },
    {
      "cell_type": "markdown",
      "source": [
        "# Mandatory Question\n",
        "\n",
        "Provide your thoughts on the assignment. What did you find challenging, and what aspects did you enjoy? Your opinion on the provided time to complete the assignment. Share any suggestions for improvement. Your feedback will be valuable for enhancing the learning experience."
      ],
      "metadata": {
        "id": "q8BFCvWp32cf"
      }
    },
    {
      "cell_type": "markdown",
      "source": [
        "I found mostly challenging for Q4 and I enjoyed doing Q5. I feel the amount of time given to finish this assignment was gud enough. Suggestions from my end would be explaining students a little in detail because, i feel the amount of content level offered by upto medium level but i think in some cases the level of assignment is beyond that. It would be very helpful, if there would be any assistance if we got struck in at any point in doing the assignment."
      ],
      "metadata": {
        "id": "5P8Nh7kGgT-M"
      }
    }
  ],
  "metadata": {
    "colab": {
      "provenance": [],
      "include_colab_link": true
    },
    "kernelspec": {
      "display_name": "Python 3 (ipykernel)",
      "language": "python",
      "name": "python3"
    },
    "language_info": {
      "codemirror_mode": {
        "name": "ipython",
        "version": 3
      },
      "file_extension": ".py",
      "mimetype": "text/x-python",
      "name": "python",
      "nbconvert_exporter": "python",
      "pygments_lexer": "ipython3",
      "version": "3.9.12"
    }
  },
  "nbformat": 4,
  "nbformat_minor": 0
}